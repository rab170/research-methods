{
 "cells": [
  {
   "cell_type": "markdown",
   "metadata": {},
   "source": [
    "# Research Methods \n",
    "## Bootstraping and randomization\n",
    "\n",
    "**11. December 2017**\n",
    "\n",
    "Fabian Karl & Robert Brown"
   ]
  },
  {
   "cell_type": "code",
   "execution_count": 1,
   "metadata": {},
   "outputs": [],
   "source": [
    "import numpy as np\n",
    "import pandas as pd\n",
    "from scipy import stats\n",
    "import scipy.optimize as opt\n",
    "from random import shuffle\n",
    "\n",
    "import matplotlib.pyplot as plt"
   ]
  },
  {
   "cell_type": "markdown",
   "metadata": {},
   "source": [
    "## randomization"
   ]
  },
  {
   "cell_type": "code",
   "execution_count": 3,
   "metadata": {},
   "outputs": [],
   "source": [
    "df = pd.read_csv('CaffeineTaps.csv', thousands=',')"
   ]
  },
  {
   "cell_type": "code",
   "execution_count": 4,
   "metadata": {
    "collapsed": true
   },
   "outputs": [],
   "source": [
    "caffeine_group = df[df.Group == 'Caffeine']\n",
    "no_caffeine_group = df[df.Group != 'Caffeine']"
   ]
  },
  {
   "cell_type": "markdown",
   "metadata": {},
   "source": [
    "H0: the two groups 'Caffeine' and 'noCaffeine' have no siginificant difference regarding 'Taps'\n",
    "\n",
    "H1: the two groups 'Caffeine' and 'noCaffeine' have a siginificant difference regarding 'Taps'"
   ]
  },
  {
   "cell_type": "code",
   "execution_count": 5,
   "metadata": {
    "collapsed": true
   },
   "outputs": [],
   "source": [
    "no_caffeine_group_median = no_caffeine_group.Taps.median()\n",
    "caffeine_group_median = caffeine_group.Taps.median()"
   ]
  },
  {
   "cell_type": "code",
   "execution_count": 6,
   "metadata": {},
   "outputs": [
    {
     "name": "stdout",
     "output_type": "stream",
     "text": [
      "Difference in Median: 3.5\n"
     ]
    }
   ],
   "source": [
    "diff_in_median = caffeine_group_median - no_caffeine_group_median\n",
    "print('Difference in Median:',diff_in_median)"
   ]
  },
  {
   "cell_type": "code",
   "execution_count": 7,
   "metadata": {
    "collapsed": true
   },
   "outputs": [],
   "source": [
    "def shuffel_split_get_median(sample_list, samples = 1000):\n",
    "    for _ in range(samples):\n",
    "        shuffle(sample_list)\n",
    "        halfe_size = int(len(sample_list)/2)\n",
    "        first_half = sample_list[:halfe_size]\n",
    "        second_half = sample_list[halfe_size:]\n",
    "        median_first_half = np.median(first_half)\n",
    "        median_second_half = np.median(second_half)\n",
    "        yield median_second_half-median_first_half"
   ]
  },
  {
   "cell_type": "markdown",
   "metadata": {},
   "source": [
    "## 100 Samples"
   ]
  },
  {
   "cell_type": "code",
   "execution_count": 20,
   "metadata": {},
   "outputs": [
    {
     "name": "stdout",
     "output_type": "stream",
     "text": [
      "From 100 ramdom runs, 1 runs had a bigger difference in Median than 3.5\n",
      "p-value: 0.01\n"
     ]
    }
   ],
   "source": [
    "n = 100\n",
    "taps = list(df.Taps)\n",
    "median_list = list(shuffel_split_get_median(taps, n))\n",
    "bigger_than_original = sum(i >= diff_in_median for i in median_list)\n",
    "print('From',n,'ramdom runs,',bigger_than_original,'runs had a bigger difference in Median than',diff_in_median )\n",
    "print('p-value:',bigger_than_original/n)"
   ]
  },
  {
   "cell_type": "code",
   "execution_count": 19,
   "metadata": {},
   "outputs": [
    {
     "data": {
      "image/png": "[encoded data removed]",
      "text/plain": [
       "<matplotlib.figure.Figure at 0x261067db7b8>"
      ]
     },
     "metadata": {},
     "output_type": "display_data"
    }
   ],
   "source": [
    "plt.hist(median_list,n)\n",
    "plt.show()"
   ]
  },
  {
   "cell_type": "markdown",
   "metadata": {},
   "source": [
    "## 10,000 Samples"
   ]
  },
  {
   "cell_type": "code",
   "execution_count": 24,
   "metadata": {},
   "outputs": [
    {
     "name": "stdout",
     "output_type": "stream",
     "text": [
      "From 10000 ramdom runs, 72 runs had a bigger difference in Median than 3.5\n",
      "p-value: 0.0072\n"
     ]
    }
   ],
   "source": [
    "n = 10000\n",
    "taps = list(df.Taps)\n",
    "median_list = list(shuffel_split_get_median(taps, n))\n",
    "bigger_than_original = sum(i >= diff_in_median for i in median_list)\n",
    "print('From',n,'ramdom runs,',bigger_than_original,'runs had a bigger difference in Median than',diff_in_median )\n",
    "print('p-value:',bigger_than_original/n)"
   ]
  },
  {
   "cell_type": "code",
   "execution_count": null,
   "metadata": {},
   "outputs": [],
   "source": [
    "plt.hist(median_list,n)\n",
    "plt.show()"
   ]
  },
  {
   "cell_type": "markdown",
   "metadata": {},
   "source": [
    "H0 has to be rejected -> There is a significant difference (p-value of 0.0072) between the two groups 'Caffeine' and 'noCaffeine' regarding 'Taps'"
   ]
  }
 ],
 "metadata": {
  "kernelspec": {
   "display_name": "Python 3",
   "language": "python",
   "name": "python3"
  },
  "language_info": {
   "codemirror_mode": {
    "name": "ipython",
    "version": 3
   },
   "file_extension": ".py",
   "mimetype": "text/x-python",
   "name": "python",
   "nbconvert_exporter": "python",
   "pygments_lexer": "ipython3",
   "version": "3.6.1"
  }
 },
 "nbformat": 4,
 "nbformat_minor": 2
}
