{
 "cells": [
  {
   "cell_type": "markdown",
   "metadata": {
    "deletable": true,
    "editable": true
   },
   "source": [
    "# Research Methods \n",
    "## Bootstraping and randomization\n",
    "\n",
    "**11. December 2017**\n",
    "\n",
    "Fabian Karl & Robert Brown"
   ]
  },
  {
   "cell_type": "code",
   "execution_count": 83,
   "metadata": {
    "collapsed": false,
    "deletable": true,
    "editable": true
   },
   "outputs": [],
   "source": [
    "import numpy as np\n",
    "import pandas as pd\n",
    "from scipy import stats\n",
    "import scipy.optimize as opt\n",
    "from random import shuffle\n",
    "\n",
    "import matplotlib.pyplot as plt"
   ]
  },
  {
   "cell_type": "markdown",
   "metadata": {
    "deletable": true,
    "editable": true
   },
   "source": [
    "## randomization"
   ]
  },
  {
   "cell_type": "code",
   "execution_count": 84,
   "metadata": {
    "collapsed": false,
    "deletable": true,
    "editable": true
   },
   "outputs": [
    {
     "data": {
      "text/html": [
       "<div>\n",
       "<style>\n",
       "    .dataframe thead tr:only-child th {\n",
       "        text-align: right;\n",
       "    }\n",
       "\n",
       "    .dataframe thead th {\n",
       "        text-align: left;\n",
       "    }\n",
       "\n",
       "    .dataframe tbody tr th {\n",
       "        vertical-align: top;\n",
       "    }\n",
       "</style>\n",
       "<table border=\"1\" class=\"dataframe\">\n",
       "  <thead>\n",
       "    <tr style=\"text-align: right;\">\n",
       "      <th></th>\n",
       "      <th>Unnamed: 0</th>\n",
       "      <th>Taps</th>\n",
       "      <th>Group</th>\n",
       "    </tr>\n",
       "  </thead>\n",
       "  <tbody>\n",
       "    <tr>\n",
       "      <th>0</th>\n",
       "      <td>1</td>\n",
       "      <td>246</td>\n",
       "      <td>Caffeine</td>\n",
       "    </tr>\n",
       "    <tr>\n",
       "      <th>1</th>\n",
       "      <td>2</td>\n",
       "      <td>248</td>\n",
       "      <td>Caffeine</td>\n",
       "    </tr>\n",
       "    <tr>\n",
       "      <th>2</th>\n",
       "      <td>3</td>\n",
       "      <td>250</td>\n",
       "      <td>Caffeine</td>\n",
       "    </tr>\n",
       "    <tr>\n",
       "      <th>3</th>\n",
       "      <td>4</td>\n",
       "      <td>252</td>\n",
       "      <td>Caffeine</td>\n",
       "    </tr>\n",
       "    <tr>\n",
       "      <th>4</th>\n",
       "      <td>5</td>\n",
       "      <td>248</td>\n",
       "      <td>Caffeine</td>\n",
       "    </tr>\n",
       "    <tr>\n",
       "      <th>5</th>\n",
       "      <td>6</td>\n",
       "      <td>250</td>\n",
       "      <td>Caffeine</td>\n",
       "    </tr>\n",
       "    <tr>\n",
       "      <th>6</th>\n",
       "      <td>7</td>\n",
       "      <td>246</td>\n",
       "      <td>Caffeine</td>\n",
       "    </tr>\n",
       "    <tr>\n",
       "      <th>7</th>\n",
       "      <td>8</td>\n",
       "      <td>248</td>\n",
       "      <td>Caffeine</td>\n",
       "    </tr>\n",
       "    <tr>\n",
       "      <th>8</th>\n",
       "      <td>9</td>\n",
       "      <td>245</td>\n",
       "      <td>Caffeine</td>\n",
       "    </tr>\n",
       "    <tr>\n",
       "      <th>9</th>\n",
       "      <td>10</td>\n",
       "      <td>250</td>\n",
       "      <td>Caffeine</td>\n",
       "    </tr>\n",
       "    <tr>\n",
       "      <th>10</th>\n",
       "      <td>11</td>\n",
       "      <td>242</td>\n",
       "      <td>NoCaffeine</td>\n",
       "    </tr>\n",
       "    <tr>\n",
       "      <th>11</th>\n",
       "      <td>12</td>\n",
       "      <td>245</td>\n",
       "      <td>NoCaffeine</td>\n",
       "    </tr>\n",
       "    <tr>\n",
       "      <th>12</th>\n",
       "      <td>13</td>\n",
       "      <td>244</td>\n",
       "      <td>NoCaffeine</td>\n",
       "    </tr>\n",
       "    <tr>\n",
       "      <th>13</th>\n",
       "      <td>14</td>\n",
       "      <td>248</td>\n",
       "      <td>NoCaffeine</td>\n",
       "    </tr>\n",
       "    <tr>\n",
       "      <th>14</th>\n",
       "      <td>15</td>\n",
       "      <td>247</td>\n",
       "      <td>NoCaffeine</td>\n",
       "    </tr>\n",
       "    <tr>\n",
       "      <th>15</th>\n",
       "      <td>16</td>\n",
       "      <td>248</td>\n",
       "      <td>NoCaffeine</td>\n",
       "    </tr>\n",
       "    <tr>\n",
       "      <th>16</th>\n",
       "      <td>17</td>\n",
       "      <td>242</td>\n",
       "      <td>NoCaffeine</td>\n",
       "    </tr>\n",
       "    <tr>\n",
       "      <th>17</th>\n",
       "      <td>18</td>\n",
       "      <td>244</td>\n",
       "      <td>NoCaffeine</td>\n",
       "    </tr>\n",
       "    <tr>\n",
       "      <th>18</th>\n",
       "      <td>19</td>\n",
       "      <td>246</td>\n",
       "      <td>NoCaffeine</td>\n",
       "    </tr>\n",
       "    <tr>\n",
       "      <th>19</th>\n",
       "      <td>20</td>\n",
       "      <td>242</td>\n",
       "      <td>NoCaffeine</td>\n",
       "    </tr>\n",
       "  </tbody>\n",
       "</table>\n",
       "</div>"
      ],
      "text/plain": [
       "    Unnamed: 0  Taps       Group\n",
       "0            1   246    Caffeine\n",
       "1            2   248    Caffeine\n",
       "2            3   250    Caffeine\n",
       "3            4   252    Caffeine\n",
       "4            5   248    Caffeine\n",
       "5            6   250    Caffeine\n",
       "6            7   246    Caffeine\n",
       "7            8   248    Caffeine\n",
       "8            9   245    Caffeine\n",
       "9           10   250    Caffeine\n",
       "10          11   242  NoCaffeine\n",
       "11          12   245  NoCaffeine\n",
       "12          13   244  NoCaffeine\n",
       "13          14   248  NoCaffeine\n",
       "14          15   247  NoCaffeine\n",
       "15          16   248  NoCaffeine\n",
       "16          17   242  NoCaffeine\n",
       "17          18   244  NoCaffeine\n",
       "18          19   246  NoCaffeine\n",
       "19          20   242  NoCaffeine"
      ]
     },
     "execution_count": 84,
     "metadata": {},
     "output_type": "execute_result"
    }
   ],
   "source": [
    "df = pd.read_csv('CaffeineTaps.csv', thousands=',')\n",
    "df"
   ]
  },
  {
   "cell_type": "code",
   "execution_count": 85,
   "metadata": {
    "collapsed": false,
    "deletable": true,
    "editable": true
   },
   "outputs": [],
   "source": [
    "caffeine_group = df[df.Group == 'Caffeine']\n",
    "no_caffeine_group = df[df.Group != 'Caffeine']"
   ]
  },
  {
   "cell_type": "code",
   "execution_count": 86,
   "metadata": {
    "collapsed": true,
    "deletable": true,
    "editable": true
   },
   "outputs": [],
   "source": [
    "no_caffeine_group_median = no_caffeine_group.Taps.median()\n",
    "caffeine_group_median = caffeine_group.Taps.median()"
   ]
  },
  {
   "cell_type": "code",
   "execution_count": 87,
   "metadata": {
    "collapsed": false,
    "deletable": true,
    "editable": true
   },
   "outputs": [
    {
     "name": "stdout",
     "output_type": "stream",
     "text": [
      "('Difference in Median:', 3.5)\n"
     ]
    }
   ],
   "source": [
    "diff_in_median = caffeine_group_median - no_caffeine_group_median\n",
    "print('Difference in Median:',diff_in_median)"
   ]
  },
  {
   "cell_type": "code",
   "execution_count": 88,
   "metadata": {
    "collapsed": true,
    "deletable": true,
    "editable": true
   },
   "outputs": [],
   "source": [
    "def shuffel_split_get_median(sample_list, samples = 1000):\n",
    "    for _ in range(samples):\n",
    "        shuffle(sample_list)\n",
    "        halfe_size = int(len(sample_list)/2)\n",
    "        first_half = sample_list[:halfe_size]\n",
    "        second_half = sample_list[halfe_size:]\n",
    "        median_first_half = np.median(first_half)\n",
    "        median_second_half = np.median(second_half)\n",
    "        yield median_second_half-median_first_half"
   ]
  },
  {
   "cell_type": "markdown",
   "metadata": {
    "deletable": true,
    "editable": true
   },
   "source": [
    "## 10 Samples"
   ]
  },
  {
   "cell_type": "code",
   "execution_count": 89,
   "metadata": {
    "collapsed": false,
    "deletable": true,
    "editable": true
   },
   "outputs": [],
   "source": [
    "taps = list(df.Taps)\n",
    "median_generator_10 = shuffel_split_get_median(taps, 10)\n",
    "median_list_10 = list(median_generator_10)"
   ]
  },
  {
   "cell_type": "code",
   "execution_count": 90,
   "metadata": {
    "collapsed": false,
    "deletable": true,
    "editable": true
   },
   "outputs": [
    {
     "name": "stdout",
     "output_type": "stream",
     "text": [
      "('Elements bigger than the difference in Median from the experiment:', 0)\n"
     ]
    }
   ],
   "source": [
    "bigger_than_original_10 = sum(i > diff_in_median for i in median_list_10)\n",
    "print('Elements bigger than the difference in Median from the experiment:', bigger_than_original_10)"
   ]
  },
  {
   "cell_type": "code",
   "execution_count": 91,
   "metadata": {
    "collapsed": false,
    "deletable": true,
    "editable": true
   },
   "outputs": [
    {
     "data": {
      "image/png": "[encoded data removed]",
      "text/plain": [
       "<matplotlib.figure.Figure at 0x10c51a050>"
      ]
     },
     "metadata": {},
     "output_type": "display_data"
    },
    {
     "data": {
      "text/plain": [
       "Ttest_1sampResult(statistic=-4.4371131478279224, pvalue=0.0016302879005038449)"
      ]
     },
     "execution_count": 91,
     "metadata": {},
     "output_type": "execute_result"
    }
   ],
   "source": [
    "plt.hist(median_list_10,100)\n",
    "plt.show()\n",
    "stats.ttest_1samp(median_list_10, diff_in_median, axis=0)"
   ]
  },
  {
   "cell_type": "markdown",
   "metadata": {
    "deletable": true,
    "editable": true
   },
   "source": [
    "## 10,000 Samples"
   ]
  },
  {
   "cell_type": "code",
   "execution_count": 92,
   "metadata": {
    "collapsed": false,
    "deletable": true,
    "editable": true
   },
   "outputs": [
    {
     "data": {
      "image/png": "[encoded data removed]",
      "text/plain": [
       "<matplotlib.figure.Figure at 0x10c62e3d0>"
      ]
     },
     "metadata": {},
     "output_type": "display_data"
    },
    {
     "data": {
      "text/plain": [
       "Ttest_1sampResult(statistic=-199.33131173103908, pvalue=0.0)"
      ]
     },
     "execution_count": 92,
     "metadata": {},
     "output_type": "execute_result"
    }
   ],
   "source": [
    "taps = list(df.Taps)\n",
    "median_generator_10000 = shuffel_split_get_median(taps, 10000)\n",
    "median_list_10000 = list(median_generator_10000)\n",
    "plt.hist(median_list_10000,100)\n",
    "plt.show()\n",
    "stats.ttest_1samp(median_list_10000, diff_in_median, axis=0)"
   ]
  },
  {
   "cell_type": "markdown",
   "metadata": {
    "deletable": true,
    "editable": true
   },
   "source": [
    "H0 has to be rejected -> There is a significant difference between the two groups 'Caffeine' and 'noCaffeine' regarding 'Taps'"
   ]
  },
  {
   "cell_type": "markdown",
   "metadata": {
    "deletable": true,
    "editable": true
   },
   "source": [
    "# Bootstraping"
   ]
  },
  {
   "cell_type": "code",
   "execution_count": 94,
   "metadata": {
    "collapsed": false,
    "deletable": true,
    "editable": true
   },
   "outputs": [
    {
     "data": {
      "text/html": [
       "<div>\n",
       "<style>\n",
       "    .dataframe thead tr:only-child th {\n",
       "        text-align: right;\n",
       "    }\n",
       "\n",
       "    .dataframe thead th {\n",
       "        text-align: left;\n",
       "    }\n",
       "\n",
       "    .dataframe tbody tr th {\n",
       "        vertical-align: top;\n",
       "    }\n",
       "</style>\n",
       "<table border=\"1\" class=\"dataframe\">\n",
       "  <thead>\n",
       "    <tr style=\"text-align: right;\">\n",
       "      <th></th>\n",
       "      <th>Unnamed: 0</th>\n",
       "      <th>Bodyfat</th>\n",
       "      <th>Age</th>\n",
       "      <th>Weight</th>\n",
       "      <th>Height</th>\n",
       "      <th>Neck</th>\n",
       "      <th>Chest</th>\n",
       "      <th>Abdomen</th>\n",
       "      <th>Ankle</th>\n",
       "      <th>Biceps</th>\n",
       "      <th>Wrist</th>\n",
       "    </tr>\n",
       "  </thead>\n",
       "  <tbody>\n",
       "    <tr>\n",
       "      <th>0</th>\n",
       "      <td>1</td>\n",
       "      <td>32.3</td>\n",
       "      <td>41</td>\n",
       "      <td>247.25</td>\n",
       "      <td>73.50</td>\n",
       "      <td>42.1</td>\n",
       "      <td>117.0</td>\n",
       "      <td>115.6</td>\n",
       "      <td>26.3</td>\n",
       "      <td>37.3</td>\n",
       "      <td>19.7</td>\n",
       "    </tr>\n",
       "    <tr>\n",
       "      <th>1</th>\n",
       "      <td>2</td>\n",
       "      <td>22.5</td>\n",
       "      <td>31</td>\n",
       "      <td>177.25</td>\n",
       "      <td>71.50</td>\n",
       "      <td>36.2</td>\n",
       "      <td>101.1</td>\n",
       "      <td>92.4</td>\n",
       "      <td>24.6</td>\n",
       "      <td>30.1</td>\n",
       "      <td>18.2</td>\n",
       "    </tr>\n",
       "    <tr>\n",
       "      <th>2</th>\n",
       "      <td>3</td>\n",
       "      <td>22.0</td>\n",
       "      <td>42</td>\n",
       "      <td>156.25</td>\n",
       "      <td>69.00</td>\n",
       "      <td>35.5</td>\n",
       "      <td>97.8</td>\n",
       "      <td>86.0</td>\n",
       "      <td>24.0</td>\n",
       "      <td>31.2</td>\n",
       "      <td>17.4</td>\n",
       "    </tr>\n",
       "    <tr>\n",
       "      <th>3</th>\n",
       "      <td>4</td>\n",
       "      <td>12.3</td>\n",
       "      <td>23</td>\n",
       "      <td>154.25</td>\n",
       "      <td>67.75</td>\n",
       "      <td>36.2</td>\n",
       "      <td>93.1</td>\n",
       "      <td>85.2</td>\n",
       "      <td>21.9</td>\n",
       "      <td>32.0</td>\n",
       "      <td>17.1</td>\n",
       "    </tr>\n",
       "    <tr>\n",
       "      <th>4</th>\n",
       "      <td>5</td>\n",
       "      <td>20.5</td>\n",
       "      <td>46</td>\n",
       "      <td>177.00</td>\n",
       "      <td>70.00</td>\n",
       "      <td>37.2</td>\n",
       "      <td>99.7</td>\n",
       "      <td>95.6</td>\n",
       "      <td>22.5</td>\n",
       "      <td>29.1</td>\n",
       "      <td>17.7</td>\n",
       "    </tr>\n",
       "    <tr>\n",
       "      <th>5</th>\n",
       "      <td>6</td>\n",
       "      <td>22.6</td>\n",
       "      <td>54</td>\n",
       "      <td>198.00</td>\n",
       "      <td>72.00</td>\n",
       "      <td>39.9</td>\n",
       "      <td>107.6</td>\n",
       "      <td>100.0</td>\n",
       "      <td>22.0</td>\n",
       "      <td>35.9</td>\n",
       "      <td>18.9</td>\n",
       "    </tr>\n",
       "    <tr>\n",
       "      <th>6</th>\n",
       "      <td>7</td>\n",
       "      <td>28.7</td>\n",
       "      <td>43</td>\n",
       "      <td>200.50</td>\n",
       "      <td>71.50</td>\n",
       "      <td>37.9</td>\n",
       "      <td>107.2</td>\n",
       "      <td>103.1</td>\n",
       "      <td>23.7</td>\n",
       "      <td>32.1</td>\n",
       "      <td>18.7</td>\n",
       "    </tr>\n",
       "    <tr>\n",
       "      <th>7</th>\n",
       "      <td>8</td>\n",
       "      <td>21.3</td>\n",
       "      <td>42</td>\n",
       "      <td>163.00</td>\n",
       "      <td>70.25</td>\n",
       "      <td>35.3</td>\n",
       "      <td>93.5</td>\n",
       "      <td>89.6</td>\n",
       "      <td>21.9</td>\n",
       "      <td>30.7</td>\n",
       "      <td>17.4</td>\n",
       "    </tr>\n",
       "    <tr>\n",
       "      <th>8</th>\n",
       "      <td>9</td>\n",
       "      <td>29.9</td>\n",
       "      <td>37</td>\n",
       "      <td>241.25</td>\n",
       "      <td>71.50</td>\n",
       "      <td>42.1</td>\n",
       "      <td>119.2</td>\n",
       "      <td>110.3</td>\n",
       "      <td>24.8</td>\n",
       "      <td>34.4</td>\n",
       "      <td>18.4</td>\n",
       "    </tr>\n",
       "    <tr>\n",
       "      <th>9</th>\n",
       "      <td>10</td>\n",
       "      <td>21.3</td>\n",
       "      <td>41</td>\n",
       "      <td>218.50</td>\n",
       "      <td>71.00</td>\n",
       "      <td>39.8</td>\n",
       "      <td>111.7</td>\n",
       "      <td>100.5</td>\n",
       "      <td>25.2</td>\n",
       "      <td>37.5</td>\n",
       "      <td>18.7</td>\n",
       "    </tr>\n",
       "    <tr>\n",
       "      <th>10</th>\n",
       "      <td>11</td>\n",
       "      <td>29.9</td>\n",
       "      <td>65</td>\n",
       "      <td>189.75</td>\n",
       "      <td>65.75</td>\n",
       "      <td>40.8</td>\n",
       "      <td>106.4</td>\n",
       "      <td>100.5</td>\n",
       "      <td>24.0</td>\n",
       "      <td>35.9</td>\n",
       "      <td>19.1</td>\n",
       "    </tr>\n",
       "    <tr>\n",
       "      <th>11</th>\n",
       "      <td>12</td>\n",
       "      <td>20.4</td>\n",
       "      <td>41</td>\n",
       "      <td>210.50</td>\n",
       "      <td>72.00</td>\n",
       "      <td>38.5</td>\n",
       "      <td>107.4</td>\n",
       "      <td>98.9</td>\n",
       "      <td>23.5</td>\n",
       "      <td>36.4</td>\n",
       "      <td>19.1</td>\n",
       "    </tr>\n",
       "    <tr>\n",
       "      <th>12</th>\n",
       "      <td>13</td>\n",
       "      <td>16.9</td>\n",
       "      <td>36</td>\n",
       "      <td>176.25</td>\n",
       "      <td>71.50</td>\n",
       "      <td>38.7</td>\n",
       "      <td>98.2</td>\n",
       "      <td>90.3</td>\n",
       "      <td>21.5</td>\n",
       "      <td>32.4</td>\n",
       "      <td>17.8</td>\n",
       "    </tr>\n",
       "    <tr>\n",
       "      <th>13</th>\n",
       "      <td>14</td>\n",
       "      <td>14.7</td>\n",
       "      <td>40</td>\n",
       "      <td>160.25</td>\n",
       "      <td>68.75</td>\n",
       "      <td>36.9</td>\n",
       "      <td>99.3</td>\n",
       "      <td>83.3</td>\n",
       "      <td>22.6</td>\n",
       "      <td>34.4</td>\n",
       "      <td>17.6</td>\n",
       "    </tr>\n",
       "    <tr>\n",
       "      <th>14</th>\n",
       "      <td>15</td>\n",
       "      <td>10.8</td>\n",
       "      <td>40</td>\n",
       "      <td>133.50</td>\n",
       "      <td>67.50</td>\n",
       "      <td>33.6</td>\n",
       "      <td>88.2</td>\n",
       "      <td>73.7</td>\n",
       "      <td>22.5</td>\n",
       "      <td>27.9</td>\n",
       "      <td>17.3</td>\n",
       "    </tr>\n",
       "  </tbody>\n",
       "</table>\n",
       "</div>"
      ],
      "text/plain": [
       "    Unnamed: 0  Bodyfat  Age  Weight  Height  Neck  Chest  Abdomen  Ankle  \\\n",
       "0            1     32.3   41  247.25   73.50  42.1  117.0    115.6   26.3   \n",
       "1            2     22.5   31  177.25   71.50  36.2  101.1     92.4   24.6   \n",
       "2            3     22.0   42  156.25   69.00  35.5   97.8     86.0   24.0   \n",
       "3            4     12.3   23  154.25   67.75  36.2   93.1     85.2   21.9   \n",
       "4            5     20.5   46  177.00   70.00  37.2   99.7     95.6   22.5   \n",
       "5            6     22.6   54  198.00   72.00  39.9  107.6    100.0   22.0   \n",
       "6            7     28.7   43  200.50   71.50  37.9  107.2    103.1   23.7   \n",
       "7            8     21.3   42  163.00   70.25  35.3   93.5     89.6   21.9   \n",
       "8            9     29.9   37  241.25   71.50  42.1  119.2    110.3   24.8   \n",
       "9           10     21.3   41  218.50   71.00  39.8  111.7    100.5   25.2   \n",
       "10          11     29.9   65  189.75   65.75  40.8  106.4    100.5   24.0   \n",
       "11          12     20.4   41  210.50   72.00  38.5  107.4     98.9   23.5   \n",
       "12          13     16.9   36  176.25   71.50  38.7   98.2     90.3   21.5   \n",
       "13          14     14.7   40  160.25   68.75  36.9   99.3     83.3   22.6   \n",
       "14          15     10.8   40  133.50   67.50  33.6   88.2     73.7   22.5   \n",
       "\n",
       "    Biceps  Wrist  \n",
       "0     37.3   19.7  \n",
       "1     30.1   18.2  \n",
       "2     31.2   17.4  \n",
       "3     32.0   17.1  \n",
       "4     29.1   17.7  \n",
       "5     35.9   18.9  \n",
       "6     32.1   18.7  \n",
       "7     30.7   17.4  \n",
       "8     34.4   18.4  \n",
       "9     37.5   18.7  \n",
       "10    35.9   19.1  \n",
       "11    36.4   19.1  \n",
       "12    32.4   17.8  \n",
       "13    34.4   17.6  \n",
       "14    27.9   17.3  "
      ]
     },
     "execution_count": 94,
     "metadata": {},
     "output_type": "execute_result"
    }
   ],
   "source": [
    "df = pd.read_csv('BodyFat.csv', thousands=',')\n",
    "df.head(15)"
   ]
  },
  {
   "cell_type": "code",
   "execution_count": 95,
   "metadata": {
    "collapsed": false,
    "deletable": true,
    "editable": true
   },
   "outputs": [
    {
     "data": {
      "text/html": [
       "<div>\n",
       "<style>\n",
       "    .dataframe thead tr:only-child th {\n",
       "        text-align: right;\n",
       "    }\n",
       "\n",
       "    .dataframe thead th {\n",
       "        text-align: left;\n",
       "    }\n",
       "\n",
       "    .dataframe tbody tr th {\n",
       "        vertical-align: top;\n",
       "    }\n",
       "</style>\n",
       "<table border=\"1\" class=\"dataframe\">\n",
       "  <thead>\n",
       "    <tr style=\"text-align: right;\">\n",
       "      <th></th>\n",
       "      <th>Unnamed: 0</th>\n",
       "      <th>Bodyfat</th>\n",
       "      <th>Age</th>\n",
       "      <th>Weight</th>\n",
       "      <th>Height</th>\n",
       "      <th>Neck</th>\n",
       "      <th>Chest</th>\n",
       "      <th>Abdomen</th>\n",
       "      <th>Ankle</th>\n",
       "      <th>Biceps</th>\n",
       "      <th>Wrist</th>\n",
       "    </tr>\n",
       "  </thead>\n",
       "  <tbody>\n",
       "    <tr>\n",
       "      <th>count</th>\n",
       "      <td>100.000000</td>\n",
       "      <td>100.000000</td>\n",
       "      <td>100.000000</td>\n",
       "      <td>100.000000</td>\n",
       "      <td>100.000000</td>\n",
       "      <td>100.000000</td>\n",
       "      <td>100.000000</td>\n",
       "      <td>100.000000</td>\n",
       "      <td>100.000000</td>\n",
       "      <td>100.000000</td>\n",
       "      <td>100.000000</td>\n",
       "    </tr>\n",
       "    <tr>\n",
       "      <th>mean</th>\n",
       "      <td>50.500000</td>\n",
       "      <td>18.601000</td>\n",
       "      <td>44.880000</td>\n",
       "      <td>177.451500</td>\n",
       "      <td>70.355000</td>\n",
       "      <td>37.894000</td>\n",
       "      <td>100.681000</td>\n",
       "      <td>91.867000</td>\n",
       "      <td>22.900000</td>\n",
       "      <td>32.292000</td>\n",
       "      <td>18.221000</td>\n",
       "    </tr>\n",
       "    <tr>\n",
       "      <th>std</th>\n",
       "      <td>29.011492</td>\n",
       "      <td>8.006683</td>\n",
       "      <td>11.417937</td>\n",
       "      <td>29.508013</td>\n",
       "      <td>2.714807</td>\n",
       "      <td>2.302998</td>\n",
       "      <td>8.516493</td>\n",
       "      <td>10.261235</td>\n",
       "      <td>1.346451</td>\n",
       "      <td>3.065141</td>\n",
       "      <td>0.999322</td>\n",
       "    </tr>\n",
       "    <tr>\n",
       "      <th>min</th>\n",
       "      <td>1.000000</td>\n",
       "      <td>3.700000</td>\n",
       "      <td>23.000000</td>\n",
       "      <td>127.500000</td>\n",
       "      <td>65.000000</td>\n",
       "      <td>32.800000</td>\n",
       "      <td>83.400000</td>\n",
       "      <td>70.400000</td>\n",
       "      <td>20.100000</td>\n",
       "      <td>25.600000</td>\n",
       "      <td>16.300000</td>\n",
       "    </tr>\n",
       "    <tr>\n",
       "      <th>25%</th>\n",
       "      <td>25.750000</td>\n",
       "      <td>12.375000</td>\n",
       "      <td>39.750000</td>\n",
       "      <td>152.937500</td>\n",
       "      <td>68.250000</td>\n",
       "      <td>36.275000</td>\n",
       "      <td>94.000000</td>\n",
       "      <td>83.825000</td>\n",
       "      <td>22.000000</td>\n",
       "      <td>29.900000</td>\n",
       "      <td>17.600000</td>\n",
       "    </tr>\n",
       "    <tr>\n",
       "      <th>50%</th>\n",
       "      <td>50.500000</td>\n",
       "      <td>18.950000</td>\n",
       "      <td>44.000000</td>\n",
       "      <td>176.125000</td>\n",
       "      <td>70.000000</td>\n",
       "      <td>37.900000</td>\n",
       "      <td>99.250000</td>\n",
       "      <td>90.150000</td>\n",
       "      <td>22.600000</td>\n",
       "      <td>32.000000</td>\n",
       "      <td>18.200000</td>\n",
       "    </tr>\n",
       "    <tr>\n",
       "      <th>75%</th>\n",
       "      <td>75.250000</td>\n",
       "      <td>24.575000</td>\n",
       "      <td>52.000000</td>\n",
       "      <td>195.437500</td>\n",
       "      <td>72.250000</td>\n",
       "      <td>39.400000</td>\n",
       "      <td>105.600000</td>\n",
       "      <td>98.975000</td>\n",
       "      <td>23.725000</td>\n",
       "      <td>34.400000</td>\n",
       "      <td>18.825000</td>\n",
       "    </tr>\n",
       "    <tr>\n",
       "      <th>max</th>\n",
       "      <td>100.000000</td>\n",
       "      <td>40.100000</td>\n",
       "      <td>74.000000</td>\n",
       "      <td>262.750000</td>\n",
       "      <td>77.750000</td>\n",
       "      <td>43.200000</td>\n",
       "      <td>128.300000</td>\n",
       "      <td>126.200000</td>\n",
       "      <td>27.000000</td>\n",
       "      <td>38.500000</td>\n",
       "      <td>21.400000</td>\n",
       "    </tr>\n",
       "  </tbody>\n",
       "</table>\n",
       "</div>"
      ],
      "text/plain": [
       "       Unnamed: 0     Bodyfat         Age      Weight      Height        Neck  \\\n",
       "count  100.000000  100.000000  100.000000  100.000000  100.000000  100.000000   \n",
       "mean    50.500000   18.601000   44.880000  177.451500   70.355000   37.894000   \n",
       "std     29.011492    8.006683   11.417937   29.508013    2.714807    2.302998   \n",
       "min      1.000000    3.700000   23.000000  127.500000   65.000000   32.800000   \n",
       "25%     25.750000   12.375000   39.750000  152.937500   68.250000   36.275000   \n",
       "50%     50.500000   18.950000   44.000000  176.125000   70.000000   37.900000   \n",
       "75%     75.250000   24.575000   52.000000  195.437500   72.250000   39.400000   \n",
       "max    100.000000   40.100000   74.000000  262.750000   77.750000   43.200000   \n",
       "\n",
       "            Chest     Abdomen       Ankle      Biceps       Wrist  \n",
       "count  100.000000  100.000000  100.000000  100.000000  100.000000  \n",
       "mean   100.681000   91.867000   22.900000   32.292000   18.221000  \n",
       "std      8.516493   10.261235    1.346451    3.065141    0.999322  \n",
       "min     83.400000   70.400000   20.100000   25.600000   16.300000  \n",
       "25%     94.000000   83.825000   22.000000   29.900000   17.600000  \n",
       "50%     99.250000   90.150000   22.600000   32.000000   18.200000  \n",
       "75%    105.600000   98.975000   23.725000   34.400000   18.825000  \n",
       "max    128.300000  126.200000   27.000000   38.500000   21.400000  "
      ]
     },
     "execution_count": 95,
     "metadata": {},
     "output_type": "execute_result"
    }
   ],
   "source": [
    "df.describe()"
   ]
  },
  {
   "cell_type": "code",
   "execution_count": 96,
   "metadata": {
    "collapsed": false,
    "deletable": true,
    "editable": true
   },
   "outputs": [],
   "source": [
    "def bootstrap_sampling(df, N = 30, K = 10, f = np.median):\n",
    "    samples = {}\n",
    "    for _ in range(K):\n",
    "        sample = df.sample(N).apply(f)\n",
    "        keys = df.apply(np.median).keys()\n",
    "        for i, statistic in enumerate(sample):\n",
    "            if keys[i] not in samples:\n",
    "                samples[keys[i]] = []\n",
    "            samples[keys[i]].append(statistic)\n",
    "    samples = {k:np.array(v) for k, v in samples.items()}\n",
    "    return samples"
   ]
  },
  {
   "cell_type": "markdown",
   "metadata": {
    "deletable": true,
    "editable": true
   },
   "source": [
    "H0: median = 13.5"
   ]
  },
  {
   "cell_type": "code",
   "execution_count": 157,
   "metadata": {
    "collapsed": false,
    "deletable": true,
    "editable": true
   },
   "outputs": [],
   "source": [
    "median = 13.5\n",
    "alpha = 0.05\n",
    "K = 500"
   ]
  },
  {
   "cell_type": "code",
   "execution_count": 172,
   "metadata": {
    "collapsed": false,
    "deletable": true,
    "editable": true
   },
   "outputs": [
    {
     "data": {
      "image/png": "[encoded data removed]",
      "text/plain": [
       "<matplotlib.figure.Figure at 0x10c939fd0>"
      ]
     },
     "metadata": {},
     "output_type": "display_data"
    }
   ],
   "source": [
    "bootstrap = bootstrap_sampling(df, K = K, f = np.median)['Bodyfat']\n",
    "shift = abs(median - np.median(df['Bodyfat']))\n",
    "bootstrap = bootstrap - shift\n",
    "\n",
    "plt.hist(df['Bodyfat'])\n",
    "plt.show()"
   ]
  },
  {
   "cell_type": "code",
   "execution_count": 173,
   "metadata": {
    "collapsed": false,
    "deletable": true,
    "editable": true
   },
   "outputs": [],
   "source": [
    "ordered = np.sort(bootstrap)\n",
    "c = [int(K*alpha/2),  int(K*(1 - alpha)/2)]"
   ]
  },
  {
   "cell_type": "code",
   "execution_count": 174,
   "metadata": {
    "collapsed": false,
    "deletable": true,
    "editable": true
   },
   "outputs": [],
   "source": [
    "calculate_p = lambda v: np.sum((bootstrap < min(v))| (bootstrap > max(v)))/float(K)\n",
    "p = calculate_p([median, np.median(df['Bodyfat'])])"
   ]
  },
  {
   "cell_type": "markdown",
   "metadata": {
    "deletable": true,
    "editable": true
   },
   "source": [
    "Reject H0 that median = 13.5"
   ]
  },
  {
   "cell_type": "code",
   "execution_count": 163,
   "metadata": {
    "collapsed": false
   },
   "outputs": [
    {
     "data": {
      "text/plain": [
       "array([ 14.  ,  14.2 ,  10.3 ,  12.35,   8.9 ,  15.95,  13.75,  14.8 ,\n",
       "        14.55,  11.4 ,  14.25,  12.1 ,  11.75,  13.35,  10.65,  13.5 ,\n",
       "        11.3 ,  13.75,  11.1 ,  14.4 ,  15.  ,  15.95,  11.25,  14.4 ,\n",
       "        12.35,  14.75,  15.  ,  13.45,  15.35,  11.65,  13.9 ,  12.35,\n",
       "        13.75,  11.5 ,  12.2 ,  14.8 ,  10.25,  16.2 ,  12.2 ,  13.3 ,\n",
       "        10.6 ,  15.6 ,  11.7 ,  13.45,  12.7 ,  14.45,  10.9 ,  14.35,\n",
       "        12.7 ,  13.75,  11.25,  10.85,  11.05,  15.25,  13.75,  13.2 ,\n",
       "        15.2 ,  15.2 ,  14.4 ,  15.15,  12.8 ,  14.95,  13.25,   8.8 ,\n",
       "        11.3 ,  14.45,  14.8 ,  14.3 ,  12.7 ,  15.2 ,  13.6 ,  15.15,\n",
       "        14.  ,   9.05,  12.75,  13.25,  11.35,  14.55,  13.25,  11.95,\n",
       "        16.1 ,  13.1 ,  11.35,  17.05,  15.55,  11.3 ,  16.15,  15.  ,\n",
       "        11.2 ,  13.25,  11.95,  14.8 ,  13.35,  15.  ,  10.3 ,  15.95,\n",
       "         8.35,  12.8 ,  13.3 ,  13.4 ,  15.85,  12.85,  15.05,  13.6 ,\n",
       "        13.35,  15.95,  14.2 ,  13.05,  14.8 ,  14.05,  13.35,  11.2 ,\n",
       "        12.25,  11.55,  12.65,  13.65,  14.15,  13.5 ,  14.4 ,  15.  ,\n",
       "        14.4 ,  10.15,  12.3 ,  15.25,  11.75,  12.7 ,  14.75,  13.9 ,\n",
       "        12.25,  14.  ,  15.5 ,  12.1 ,  13.75,  15.25,  13.25,  13.75,\n",
       "        11.9 ,  12.25,  13.25,  13.9 ,  16.75,  13.1 ,  13.65,  15.25,\n",
       "        13.9 ,  12.8 ,  13.35,  13.3 ,  14.15,  11.9 ,  12.8 ,  14.  ,\n",
       "        10.15,  15.65,  14.  ,  11.4 ,  11.9 ,  12.8 ,  12.85,  10.8 ,\n",
       "        14.55,  13.85,  15.45,  12.8 ,  14.  ,  15.2 ,   9.95,  15.  ,\n",
       "        11.25,  12.45,  11.7 ,  13.2 ,  11.2 ,  13.25,  13.  ,  13.45,\n",
       "        13.2 ,  15.2 ,  15.25,  11.3 ,  11.9 ,  14.4 ,  15.95,   9.4 ,\n",
       "        14.55,  15.05,  11.75,  11.7 ,  15.95,   9.35,  14.45,  12.35,\n",
       "        10.8 ,  12.7 ,  12.8 ,  12.25,  11.25,  15.25,  16.2 ,  14.4 ,\n",
       "        12.8 ,  12.1 ,   9.8 ,  11.5 ,  12.3 ,  13.05,  15.15,  14.6 ,\n",
       "        13.3 ,  14.4 ,  15.6 ,  18.  ,  11.1 ,  14.6 ,  11.75,  16.2 ,\n",
       "        15.7 ,  10.8 ,  15.  ,  12.8 ,  12.8 ,  10.6 ,  14.35,  11.4 ,\n",
       "        14.55,  14.85,  13.75,  15.15,  11.85,  12.1 ,  12.25,  13.35,\n",
       "        12.85,  15.95,  15.6 ,   9.4 ,  13.1 ,  11.5 ,  15.95,  11.4 ,\n",
       "        15.95,  14.95,  13.75,  13.45,  15.  ,  13.9 ,  11.4 ,  13.9 ,\n",
       "        12.75,  12.8 ,  14.95,  11.55,  12.25,  11.2 ,  11.75,  13.5 ,\n",
       "        16.75,  13.75,  13.35,  12.3 ,  10.65,  10.6 ,  15.15,  12.3 ,\n",
       "        14.95,  11.2 ,  12.55,  12.3 ,  13.75,  15.6 ,  12.7 ,   7.8 ,\n",
       "        14.8 ,  13.85,  11.55,  16.3 ,   8.55,  10.35,  15.05,  15.95,\n",
       "        13.  ,  13.75,  14.95,  14.95,  12.2 ,  15.85,  13.4 ,  14.4 ,\n",
       "        12.3 ,  13.05,  15.95,  13.5 ,  11.55,  14.6 ,  14.4 ,  14.8 ,\n",
       "        11.9 ,  11.35,  13.3 ,  11.65,  13.5 ,  11.65,  11.7 ,  13.05,\n",
       "        15.15,  14.85,  14.  ,  15.6 ,  13.35,  15.75,  15.95,  12.  ,\n",
       "        16.3 ,  11.5 ,  14.95,  11.5 ,  14.  ,  11.05,  14.25,  15.05,\n",
       "        14.5 ,  12.35,   9.75,  14.15,  13.75,  11.9 ,  11.7 ,  13.5 ,\n",
       "        10.8 ,  15.45,  11.25,  14.4 ,  11.7 ,  11.9 ,  13.7 ,  15.  ,\n",
       "        14.95,  13.9 ,  15.2 ,  11.15,  15.2 ,  15.  ,  15.7 ,  15.85,\n",
       "        12.3 ,  13.05,  15.6 ,  14.3 ,  12.7 ,  15.  ,  16.45,  15.05,\n",
       "        14.3 ,  15.2 ,  12.9 ,  13.75,  14.95,  14.8 ,  15.35,  15.05,\n",
       "        12.8 ,  13.5 ,  16.45,  13.6 ,  13.2 ,  10.  ,  12.7 ,  16.25,\n",
       "        11.35,  12.7 ,  13.5 ,  15.2 ,  14.35,  14.8 ,  12.45,  11.7 ,\n",
       "        13.9 ,  12.1 ,  13.2 ,  15.4 ,  14.6 ,  12.1 ,  15.  ,  15.2 ,\n",
       "        13.1 ,  14.55,  16.  ,  10.25,  10.85,  11.45,  11.15,  15.45,\n",
       "        14.15,  11.6 ,  12.75,  15.45,  12.1 ,  15.45,  12.7 ,  12.75,\n",
       "        12.15,  11.15,  12.65,  11.7 ,  13.  ,  14.3 ,  11.75,  11.7 ,\n",
       "        11.9 ,  10.8 ,  13.25,  12.4 ,  11.1 ,  11.  ,  14.95,  11.7 ,\n",
       "        12.1 ,  12.7 ,  12.1 ,  14.75,  13.2 ,  13.5 ,  12.7 ,  14.85,\n",
       "        15.35,  16.2 ,  14.8 ,  14.8 ,  10.7 ,  10.35,  15.6 ,  15.6 ,\n",
       "        11.5 ,  11.35,  14.15,  15.  ,  15.5 ,  12.7 ,  13.5 ,   9.7 ,\n",
       "        15.2 ,  13.05,  10.8 ,  12.35,  14.6 ,  11.25,  11.05,  14.8 ,\n",
       "        15.35,  12.3 ,  13.6 ,  15.05,  13.75,  14.3 ,  12.7 ,  15.15,\n",
       "        13.85,  11.35,  13.5 ,  11.95,  10.25,  14.4 ,  14.4 ,  11.1 ,\n",
       "        14.35,  13.9 ,  15.4 ,  12.25,  12.3 ,  11.3 ,  10.8 ,  11.85,\n",
       "        11.75,  12.85,  11.85,  15.05,  13.85,  12.8 ,  12.7 ,  11.7 ,\n",
       "        13.  ,  11.  ,  11.5 ,  11.75,  13.5 ,  14.55,  14.  ,  11.05,\n",
       "        14.4 ,  11.75,  15.45,  13.5 ,  13.75,  13.9 ,  11.05,  13.85,\n",
       "        11.35,  11.65,  12.7 ,  14.55])"
      ]
     },
     "execution_count": 163,
     "metadata": {},
     "output_type": "execute_result"
    }
   ],
   "source": [
    "bootstrap"
   ]
  },
  {
   "cell_type": "code",
   "execution_count": 176,
   "metadata": {
    "collapsed": false
   },
   "outputs": [
    {
     "data": {
      "text/plain": [
       "0.496"
      ]
     },
     "execution_count": 176,
     "metadata": {},
     "output_type": "execute_result"
    }
   ],
   "source": [
    "p"
   ]
  },
  {
   "cell_type": "code",
   "execution_count": 178,
   "metadata": {
    "collapsed": false
   },
   "outputs": [
    {
     "data": {
      "text/plain": [
       "array([ 10. ,  13.3])"
      ]
     },
     "execution_count": 178,
     "metadata": {},
     "output_type": "execute_result"
    }
   ],
   "source": [
    "ordered[c]"
   ]
  },
  {
   "cell_type": "code",
   "execution_count": null,
   "metadata": {
    "collapsed": true
   },
   "outputs": [],
   "source": []
  }
 ],
 "metadata": {
  "kernelspec": {
   "display_name": "Python 2",
   "language": "python",
   "name": "python2"
  },
  "language_info": {
   "codemirror_mode": {
    "name": "ipython",
    "version": 2
   },
   "file_extension": ".py",
   "mimetype": "text/x-python",
   "name": "python",
   "nbconvert_exporter": "python",
   "pygments_lexer": "ipython2",
   "version": "2.7.11"
  }
 },
 "nbformat": 4,
 "nbformat_minor": 2
}
