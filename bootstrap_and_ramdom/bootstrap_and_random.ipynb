{
 "cells": [
  {
   "cell_type": "markdown",
   "metadata": {
    "deletable": true,
    "editable": true
   },
   "source": [
    "# Research Methods \n",
    "## Bootstraping and randomization\n",
    "\n",
    "**11. December 2017**\n",
    "\n",
    "Fabian Karl & Robert Brown"
   ]
  },
  {
   "cell_type": "code",
   "execution_count": 1,
   "metadata": {
    "collapsed": false,
    "deletable": true,
    "editable": true
   },
   "outputs": [],
   "source": [
    "import numpy as np\n",
    "import pandas as pd\n",
    "from scipy import stats\n",
    "import scipy.optimize as opt\n",
    "from random import shuffle\n",
    "\n",
    "import matplotlib.pyplot as plt"
   ]
  },
  {
   "cell_type": "markdown",
   "metadata": {
    "deletable": true,
    "editable": true
   },
   "source": [
    "## randomization"
   ]
  },
  {
   "cell_type": "code",
   "execution_count": 2,
   "metadata": {
    "collapsed": false,
    "deletable": true,
    "editable": true
   },
   "outputs": [
    {
     "data": {
      "text/html": [
       "<div>\n",
       "<style>\n",
       "    .dataframe thead tr:only-child th {\n",
       "        text-align: right;\n",
       "    }\n",
       "\n",
       "    .dataframe thead th {\n",
       "        text-align: left;\n",
       "    }\n",
       "\n",
       "    .dataframe tbody tr th {\n",
       "        vertical-align: top;\n",
       "    }\n",
       "</style>\n",
       "<table border=\"1\" class=\"dataframe\">\n",
       "  <thead>\n",
       "    <tr style=\"text-align: right;\">\n",
       "      <th></th>\n",
       "      <th>Unnamed: 0</th>\n",
       "      <th>Taps</th>\n",
       "      <th>Group</th>\n",
       "    </tr>\n",
       "  </thead>\n",
       "  <tbody>\n",
       "    <tr>\n",
       "      <th>0</th>\n",
       "      <td>1</td>\n",
       "      <td>246</td>\n",
       "      <td>Caffeine</td>\n",
       "    </tr>\n",
       "    <tr>\n",
       "      <th>1</th>\n",
       "      <td>2</td>\n",
       "      <td>248</td>\n",
       "      <td>Caffeine</td>\n",
       "    </tr>\n",
       "    <tr>\n",
       "      <th>2</th>\n",
       "      <td>3</td>\n",
       "      <td>250</td>\n",
       "      <td>Caffeine</td>\n",
       "    </tr>\n",
       "    <tr>\n",
       "      <th>3</th>\n",
       "      <td>4</td>\n",
       "      <td>252</td>\n",
       "      <td>Caffeine</td>\n",
       "    </tr>\n",
       "    <tr>\n",
       "      <th>4</th>\n",
       "      <td>5</td>\n",
       "      <td>248</td>\n",
       "      <td>Caffeine</td>\n",
       "    </tr>\n",
       "    <tr>\n",
       "      <th>5</th>\n",
       "      <td>6</td>\n",
       "      <td>250</td>\n",
       "      <td>Caffeine</td>\n",
       "    </tr>\n",
       "    <tr>\n",
       "      <th>6</th>\n",
       "      <td>7</td>\n",
       "      <td>246</td>\n",
       "      <td>Caffeine</td>\n",
       "    </tr>\n",
       "    <tr>\n",
       "      <th>7</th>\n",
       "      <td>8</td>\n",
       "      <td>248</td>\n",
       "      <td>Caffeine</td>\n",
       "    </tr>\n",
       "    <tr>\n",
       "      <th>8</th>\n",
       "      <td>9</td>\n",
       "      <td>245</td>\n",
       "      <td>Caffeine</td>\n",
       "    </tr>\n",
       "    <tr>\n",
       "      <th>9</th>\n",
       "      <td>10</td>\n",
       "      <td>250</td>\n",
       "      <td>Caffeine</td>\n",
       "    </tr>\n",
       "    <tr>\n",
       "      <th>10</th>\n",
       "      <td>11</td>\n",
       "      <td>242</td>\n",
       "      <td>NoCaffeine</td>\n",
       "    </tr>\n",
       "    <tr>\n",
       "      <th>11</th>\n",
       "      <td>12</td>\n",
       "      <td>245</td>\n",
       "      <td>NoCaffeine</td>\n",
       "    </tr>\n",
       "    <tr>\n",
       "      <th>12</th>\n",
       "      <td>13</td>\n",
       "      <td>244</td>\n",
       "      <td>NoCaffeine</td>\n",
       "    </tr>\n",
       "    <tr>\n",
       "      <th>13</th>\n",
       "      <td>14</td>\n",
       "      <td>248</td>\n",
       "      <td>NoCaffeine</td>\n",
       "    </tr>\n",
       "    <tr>\n",
       "      <th>14</th>\n",
       "      <td>15</td>\n",
       "      <td>247</td>\n",
       "      <td>NoCaffeine</td>\n",
       "    </tr>\n",
       "    <tr>\n",
       "      <th>15</th>\n",
       "      <td>16</td>\n",
       "      <td>248</td>\n",
       "      <td>NoCaffeine</td>\n",
       "    </tr>\n",
       "    <tr>\n",
       "      <th>16</th>\n",
       "      <td>17</td>\n",
       "      <td>242</td>\n",
       "      <td>NoCaffeine</td>\n",
       "    </tr>\n",
       "    <tr>\n",
       "      <th>17</th>\n",
       "      <td>18</td>\n",
       "      <td>244</td>\n",
       "      <td>NoCaffeine</td>\n",
       "    </tr>\n",
       "    <tr>\n",
       "      <th>18</th>\n",
       "      <td>19</td>\n",
       "      <td>246</td>\n",
       "      <td>NoCaffeine</td>\n",
       "    </tr>\n",
       "    <tr>\n",
       "      <th>19</th>\n",
       "      <td>20</td>\n",
       "      <td>242</td>\n",
       "      <td>NoCaffeine</td>\n",
       "    </tr>\n",
       "  </tbody>\n",
       "</table>\n",
       "</div>"
      ],
      "text/plain": [
       "    Unnamed: 0  Taps       Group\n",
       "0            1   246    Caffeine\n",
       "1            2   248    Caffeine\n",
       "2            3   250    Caffeine\n",
       "3            4   252    Caffeine\n",
       "4            5   248    Caffeine\n",
       "5            6   250    Caffeine\n",
       "6            7   246    Caffeine\n",
       "7            8   248    Caffeine\n",
       "8            9   245    Caffeine\n",
       "9           10   250    Caffeine\n",
       "10          11   242  NoCaffeine\n",
       "11          12   245  NoCaffeine\n",
       "12          13   244  NoCaffeine\n",
       "13          14   248  NoCaffeine\n",
       "14          15   247  NoCaffeine\n",
       "15          16   248  NoCaffeine\n",
       "16          17   242  NoCaffeine\n",
       "17          18   244  NoCaffeine\n",
       "18          19   246  NoCaffeine\n",
       "19          20   242  NoCaffeine"
      ]
     },
     "execution_count": 2,
     "metadata": {},
     "output_type": "execute_result"
    }
   ],
   "source": [
    "df = pd.read_csv('CaffeineTaps.csv', thousands=',')\n",
    "df"
   ]
  },
  {
   "cell_type": "code",
   "execution_count": 3,
   "metadata": {
    "collapsed": true,
    "deletable": true,
    "editable": true
   },
   "outputs": [],
   "source": [
    "# df.loc[df['column_name'] == some_value]\n",
    "caffeine_group = df[df.Group == 'Caffeine']\n",
    "no_caffeine_group = df[df.Group != 'Caffeine']"
   ]
  },
  {
   "cell_type": "code",
   "execution_count": 4,
   "metadata": {
    "collapsed": true,
    "deletable": true,
    "editable": true
   },
   "outputs": [],
   "source": [
    "no_caffeine_group_median = no_caffeine_group.Taps.median()\n",
    "caffeine_group_median = caffeine_group.Taps.median()"
   ]
  },
  {
   "cell_type": "code",
   "execution_count": 5,
   "metadata": {
    "collapsed": false,
    "deletable": true,
    "editable": true
   },
   "outputs": [
    {
     "name": "stdout",
     "output_type": "stream",
     "text": [
      "('Difference in Median:', 3.5)\n"
     ]
    }
   ],
   "source": [
    "diff_in_median = caffeine_group_median - no_caffeine_group_median\n",
    "print('Difference in Median:',diff_in_median)"
   ]
  },
  {
   "cell_type": "code",
   "execution_count": 6,
   "metadata": {
    "collapsed": true,
    "deletable": true,
    "editable": true
   },
   "outputs": [],
   "source": [
    "def shuffel_split_get_median(sample_list, samples = 1000):\n",
    "    for _ in range(samples):\n",
    "        shuffle(sample_list)\n",
    "        halfe_size = int(len(sample_list)/2)\n",
    "        first_half = sample_list[:halfe_size]\n",
    "        second_half = sample_list[halfe_size:]\n",
    "        median_first_half = np.median(first_half)\n",
    "        median_second_half = np.median(second_half)\n",
    "        yield median_second_half-median_first_half"
   ]
  },
  {
   "cell_type": "markdown",
   "metadata": {
    "deletable": true,
    "editable": true
   },
   "source": [
    "## 10 Samples"
   ]
  },
  {
   "cell_type": "code",
   "execution_count": 7,
   "metadata": {
    "collapsed": false,
    "deletable": true,
    "editable": true
   },
   "outputs": [],
   "source": [
    "taps = list(df.Taps)\n",
    "median_generator_10 = shuffel_split_get_median(taps, 10)\n",
    "median_list_10 = list(median_generator_10)"
   ]
  },
  {
   "cell_type": "code",
   "execution_count": 8,
   "metadata": {
    "collapsed": false,
    "deletable": true,
    "editable": true
   },
   "outputs": [
    {
     "name": "stdout",
     "output_type": "stream",
     "text": [
      "('Elements bigger than the difference in Median from the experiment:', 0)\n"
     ]
    }
   ],
   "source": [
    "bigger_than_original_10 = sum(i > diff_in_median for i in median_list_10)\n",
    "print('Elements bigger than the difference in Median from the experiment:', bigger_than_original_10)"
   ]
  },
  {
   "cell_type": "code",
   "execution_count": 9,
   "metadata": {
    "collapsed": false,
    "deletable": true,
    "editable": true
   },
   "outputs": [
    {
     "data": {
      "image/png": "[encoded data removed]",
      "text/plain": [
       "<matplotlib.figure.Figure at 0x10a6b2290>"
      ]
     },
     "metadata": {},
     "output_type": "display_data"
    },
    {
     "data": {
      "text/plain": [
       "Ttest_1sampResult(statistic=-6.2230555988905651, pvalue=0.0001545342685730695)"
      ]
     },
     "execution_count": 9,
     "metadata": {},
     "output_type": "execute_result"
    }
   ],
   "source": [
    "plt.hist(median_list_10,100)\n",
    "plt.show()\n",
    "stats.ttest_1samp(median_list_10, diff_in_median, axis=0)"
   ]
  },
  {
   "cell_type": "markdown",
   "metadata": {
    "deletable": true,
    "editable": true
   },
   "source": [
    "## 10,000 Samples"
   ]
  },
  {
   "cell_type": "code",
   "execution_count": 10,
   "metadata": {
    "collapsed": false,
    "deletable": true,
    "editable": true
   },
   "outputs": [
    {
     "data": {
      "image/png": "[encoded data removed]",
      "text/plain": [
       "<matplotlib.figure.Figure at 0x10aa40090>"
      ]
     },
     "metadata": {},
     "output_type": "display_data"
    },
    {
     "data": {
      "text/plain": [
       "Ttest_1sampResult(statistic=-198.35634387303392, pvalue=0.0)"
      ]
     },
     "execution_count": 10,
     "metadata": {},
     "output_type": "execute_result"
    }
   ],
   "source": [
    "taps = list(df.Taps)\n",
    "median_generator_10000 = shuffel_split_get_median(taps, 10000)\n",
    "median_list_10000 = list(median_generator_10000)\n",
    "plt.hist(median_list_10000,100)\n",
    "plt.show()\n",
    "stats.ttest_1samp(median_list_10000, diff_in_median, axis=0)"
   ]
  },
  {
   "cell_type": "markdown",
   "metadata": {
    "deletable": true,
    "editable": true
   },
   "source": [
    "H0 has to be rejected -> There is a significant difference between the two groups 'Caffeine' and 'noCaffeine' regarding 'Taps'"
   ]
  },
  {
   "cell_type": "markdown",
   "metadata": {
    "deletable": true,
    "editable": true
   },
   "source": [
    "# Bootstraping"
   ]
  },
  {
   "cell_type": "code",
   "execution_count": 11,
   "metadata": {
    "collapsed": false,
    "deletable": true,
    "editable": true
   },
   "outputs": [
    {
     "data": {
      "text/html": [
       "<div>\n",
       "<style>\n",
       "    .dataframe thead tr:only-child th {\n",
       "        text-align: right;\n",
       "    }\n",
       "\n",
       "    .dataframe thead th {\n",
       "        text-align: left;\n",
       "    }\n",
       "\n",
       "    .dataframe tbody tr th {\n",
       "        vertical-align: top;\n",
       "    }\n",
       "</style>\n",
       "<table border=\"1\" class=\"dataframe\">\n",
       "  <thead>\n",
       "    <tr style=\"text-align: right;\">\n",
       "      <th></th>\n",
       "      <th>Unnamed: 0</th>\n",
       "      <th>Bodyfat</th>\n",
       "      <th>Age</th>\n",
       "      <th>Weight</th>\n",
       "      <th>Height</th>\n",
       "      <th>Neck</th>\n",
       "      <th>Chest</th>\n",
       "      <th>Abdomen</th>\n",
       "      <th>Ankle</th>\n",
       "      <th>Biceps</th>\n",
       "      <th>Wrist</th>\n",
       "    </tr>\n",
       "  </thead>\n",
       "  <tbody>\n",
       "    <tr>\n",
       "      <th>0</th>\n",
       "      <td>1</td>\n",
       "      <td>32.3</td>\n",
       "      <td>41</td>\n",
       "      <td>247.25</td>\n",
       "      <td>73.50</td>\n",
       "      <td>42.1</td>\n",
       "      <td>117.0</td>\n",
       "      <td>115.6</td>\n",
       "      <td>26.3</td>\n",
       "      <td>37.3</td>\n",
       "      <td>19.7</td>\n",
       "    </tr>\n",
       "    <tr>\n",
       "      <th>1</th>\n",
       "      <td>2</td>\n",
       "      <td>22.5</td>\n",
       "      <td>31</td>\n",
       "      <td>177.25</td>\n",
       "      <td>71.50</td>\n",
       "      <td>36.2</td>\n",
       "      <td>101.1</td>\n",
       "      <td>92.4</td>\n",
       "      <td>24.6</td>\n",
       "      <td>30.1</td>\n",
       "      <td>18.2</td>\n",
       "    </tr>\n",
       "    <tr>\n",
       "      <th>2</th>\n",
       "      <td>3</td>\n",
       "      <td>22.0</td>\n",
       "      <td>42</td>\n",
       "      <td>156.25</td>\n",
       "      <td>69.00</td>\n",
       "      <td>35.5</td>\n",
       "      <td>97.8</td>\n",
       "      <td>86.0</td>\n",
       "      <td>24.0</td>\n",
       "      <td>31.2</td>\n",
       "      <td>17.4</td>\n",
       "    </tr>\n",
       "    <tr>\n",
       "      <th>3</th>\n",
       "      <td>4</td>\n",
       "      <td>12.3</td>\n",
       "      <td>23</td>\n",
       "      <td>154.25</td>\n",
       "      <td>67.75</td>\n",
       "      <td>36.2</td>\n",
       "      <td>93.1</td>\n",
       "      <td>85.2</td>\n",
       "      <td>21.9</td>\n",
       "      <td>32.0</td>\n",
       "      <td>17.1</td>\n",
       "    </tr>\n",
       "    <tr>\n",
       "      <th>4</th>\n",
       "      <td>5</td>\n",
       "      <td>20.5</td>\n",
       "      <td>46</td>\n",
       "      <td>177.00</td>\n",
       "      <td>70.00</td>\n",
       "      <td>37.2</td>\n",
       "      <td>99.7</td>\n",
       "      <td>95.6</td>\n",
       "      <td>22.5</td>\n",
       "      <td>29.1</td>\n",
       "      <td>17.7</td>\n",
       "    </tr>\n",
       "    <tr>\n",
       "      <th>5</th>\n",
       "      <td>6</td>\n",
       "      <td>22.6</td>\n",
       "      <td>54</td>\n",
       "      <td>198.00</td>\n",
       "      <td>72.00</td>\n",
       "      <td>39.9</td>\n",
       "      <td>107.6</td>\n",
       "      <td>100.0</td>\n",
       "      <td>22.0</td>\n",
       "      <td>35.9</td>\n",
       "      <td>18.9</td>\n",
       "    </tr>\n",
       "    <tr>\n",
       "      <th>6</th>\n",
       "      <td>7</td>\n",
       "      <td>28.7</td>\n",
       "      <td>43</td>\n",
       "      <td>200.50</td>\n",
       "      <td>71.50</td>\n",
       "      <td>37.9</td>\n",
       "      <td>107.2</td>\n",
       "      <td>103.1</td>\n",
       "      <td>23.7</td>\n",
       "      <td>32.1</td>\n",
       "      <td>18.7</td>\n",
       "    </tr>\n",
       "    <tr>\n",
       "      <th>7</th>\n",
       "      <td>8</td>\n",
       "      <td>21.3</td>\n",
       "      <td>42</td>\n",
       "      <td>163.00</td>\n",
       "      <td>70.25</td>\n",
       "      <td>35.3</td>\n",
       "      <td>93.5</td>\n",
       "      <td>89.6</td>\n",
       "      <td>21.9</td>\n",
       "      <td>30.7</td>\n",
       "      <td>17.4</td>\n",
       "    </tr>\n",
       "    <tr>\n",
       "      <th>8</th>\n",
       "      <td>9</td>\n",
       "      <td>29.9</td>\n",
       "      <td>37</td>\n",
       "      <td>241.25</td>\n",
       "      <td>71.50</td>\n",
       "      <td>42.1</td>\n",
       "      <td>119.2</td>\n",
       "      <td>110.3</td>\n",
       "      <td>24.8</td>\n",
       "      <td>34.4</td>\n",
       "      <td>18.4</td>\n",
       "    </tr>\n",
       "    <tr>\n",
       "      <th>9</th>\n",
       "      <td>10</td>\n",
       "      <td>21.3</td>\n",
       "      <td>41</td>\n",
       "      <td>218.50</td>\n",
       "      <td>71.00</td>\n",
       "      <td>39.8</td>\n",
       "      <td>111.7</td>\n",
       "      <td>100.5</td>\n",
       "      <td>25.2</td>\n",
       "      <td>37.5</td>\n",
       "      <td>18.7</td>\n",
       "    </tr>\n",
       "    <tr>\n",
       "      <th>10</th>\n",
       "      <td>11</td>\n",
       "      <td>29.9</td>\n",
       "      <td>65</td>\n",
       "      <td>189.75</td>\n",
       "      <td>65.75</td>\n",
       "      <td>40.8</td>\n",
       "      <td>106.4</td>\n",
       "      <td>100.5</td>\n",
       "      <td>24.0</td>\n",
       "      <td>35.9</td>\n",
       "      <td>19.1</td>\n",
       "    </tr>\n",
       "    <tr>\n",
       "      <th>11</th>\n",
       "      <td>12</td>\n",
       "      <td>20.4</td>\n",
       "      <td>41</td>\n",
       "      <td>210.50</td>\n",
       "      <td>72.00</td>\n",
       "      <td>38.5</td>\n",
       "      <td>107.4</td>\n",
       "      <td>98.9</td>\n",
       "      <td>23.5</td>\n",
       "      <td>36.4</td>\n",
       "      <td>19.1</td>\n",
       "    </tr>\n",
       "    <tr>\n",
       "      <th>12</th>\n",
       "      <td>13</td>\n",
       "      <td>16.9</td>\n",
       "      <td>36</td>\n",
       "      <td>176.25</td>\n",
       "      <td>71.50</td>\n",
       "      <td>38.7</td>\n",
       "      <td>98.2</td>\n",
       "      <td>90.3</td>\n",
       "      <td>21.5</td>\n",
       "      <td>32.4</td>\n",
       "      <td>17.8</td>\n",
       "    </tr>\n",
       "    <tr>\n",
       "      <th>13</th>\n",
       "      <td>14</td>\n",
       "      <td>14.7</td>\n",
       "      <td>40</td>\n",
       "      <td>160.25</td>\n",
       "      <td>68.75</td>\n",
       "      <td>36.9</td>\n",
       "      <td>99.3</td>\n",
       "      <td>83.3</td>\n",
       "      <td>22.6</td>\n",
       "      <td>34.4</td>\n",
       "      <td>17.6</td>\n",
       "    </tr>\n",
       "    <tr>\n",
       "      <th>14</th>\n",
       "      <td>15</td>\n",
       "      <td>10.8</td>\n",
       "      <td>40</td>\n",
       "      <td>133.50</td>\n",
       "      <td>67.50</td>\n",
       "      <td>33.6</td>\n",
       "      <td>88.2</td>\n",
       "      <td>73.7</td>\n",
       "      <td>22.5</td>\n",
       "      <td>27.9</td>\n",
       "      <td>17.3</td>\n",
       "    </tr>\n",
       "  </tbody>\n",
       "</table>\n",
       "</div>"
      ],
      "text/plain": [
       "    Unnamed: 0  Bodyfat  Age  Weight  Height  Neck  Chest  Abdomen  Ankle  \\\n",
       "0            1     32.3   41  247.25   73.50  42.1  117.0    115.6   26.3   \n",
       "1            2     22.5   31  177.25   71.50  36.2  101.1     92.4   24.6   \n",
       "2            3     22.0   42  156.25   69.00  35.5   97.8     86.0   24.0   \n",
       "3            4     12.3   23  154.25   67.75  36.2   93.1     85.2   21.9   \n",
       "4            5     20.5   46  177.00   70.00  37.2   99.7     95.6   22.5   \n",
       "5            6     22.6   54  198.00   72.00  39.9  107.6    100.0   22.0   \n",
       "6            7     28.7   43  200.50   71.50  37.9  107.2    103.1   23.7   \n",
       "7            8     21.3   42  163.00   70.25  35.3   93.5     89.6   21.9   \n",
       "8            9     29.9   37  241.25   71.50  42.1  119.2    110.3   24.8   \n",
       "9           10     21.3   41  218.50   71.00  39.8  111.7    100.5   25.2   \n",
       "10          11     29.9   65  189.75   65.75  40.8  106.4    100.5   24.0   \n",
       "11          12     20.4   41  210.50   72.00  38.5  107.4     98.9   23.5   \n",
       "12          13     16.9   36  176.25   71.50  38.7   98.2     90.3   21.5   \n",
       "13          14     14.7   40  160.25   68.75  36.9   99.3     83.3   22.6   \n",
       "14          15     10.8   40  133.50   67.50  33.6   88.2     73.7   22.5   \n",
       "\n",
       "    Biceps  Wrist  \n",
       "0     37.3   19.7  \n",
       "1     30.1   18.2  \n",
       "2     31.2   17.4  \n",
       "3     32.0   17.1  \n",
       "4     29.1   17.7  \n",
       "5     35.9   18.9  \n",
       "6     32.1   18.7  \n",
       "7     30.7   17.4  \n",
       "8     34.4   18.4  \n",
       "9     37.5   18.7  \n",
       "10    35.9   19.1  \n",
       "11    36.4   19.1  \n",
       "12    32.4   17.8  \n",
       "13    34.4   17.6  \n",
       "14    27.9   17.3  "
      ]
     },
     "execution_count": 11,
     "metadata": {},
     "output_type": "execute_result"
    }
   ],
   "source": [
    "df = pd.read_csv('BodyFat.csv', thousands=',')\n",
    "df.head(15)"
   ]
  },
  {
   "cell_type": "code",
   "execution_count": 12,
   "metadata": {
    "collapsed": false,
    "deletable": true,
    "editable": true
   },
   "outputs": [
    {
     "data": {
      "text/html": [
       "<div>\n",
       "<style>\n",
       "    .dataframe thead tr:only-child th {\n",
       "        text-align: right;\n",
       "    }\n",
       "\n",
       "    .dataframe thead th {\n",
       "        text-align: left;\n",
       "    }\n",
       "\n",
       "    .dataframe tbody tr th {\n",
       "        vertical-align: top;\n",
       "    }\n",
       "</style>\n",
       "<table border=\"1\" class=\"dataframe\">\n",
       "  <thead>\n",
       "    <tr style=\"text-align: right;\">\n",
       "      <th></th>\n",
       "      <th>Unnamed: 0</th>\n",
       "      <th>Bodyfat</th>\n",
       "      <th>Age</th>\n",
       "      <th>Weight</th>\n",
       "      <th>Height</th>\n",
       "      <th>Neck</th>\n",
       "      <th>Chest</th>\n",
       "      <th>Abdomen</th>\n",
       "      <th>Ankle</th>\n",
       "      <th>Biceps</th>\n",
       "      <th>Wrist</th>\n",
       "    </tr>\n",
       "  </thead>\n",
       "  <tbody>\n",
       "    <tr>\n",
       "      <th>count</th>\n",
       "      <td>100.000000</td>\n",
       "      <td>100.000000</td>\n",
       "      <td>100.000000</td>\n",
       "      <td>100.000000</td>\n",
       "      <td>100.000000</td>\n",
       "      <td>100.000000</td>\n",
       "      <td>100.000000</td>\n",
       "      <td>100.000000</td>\n",
       "      <td>100.000000</td>\n",
       "      <td>100.000000</td>\n",
       "      <td>100.000000</td>\n",
       "    </tr>\n",
       "    <tr>\n",
       "      <th>mean</th>\n",
       "      <td>50.500000</td>\n",
       "      <td>18.601000</td>\n",
       "      <td>44.880000</td>\n",
       "      <td>177.451500</td>\n",
       "      <td>70.355000</td>\n",
       "      <td>37.894000</td>\n",
       "      <td>100.681000</td>\n",
       "      <td>91.867000</td>\n",
       "      <td>22.900000</td>\n",
       "      <td>32.292000</td>\n",
       "      <td>18.221000</td>\n",
       "    </tr>\n",
       "    <tr>\n",
       "      <th>std</th>\n",
       "      <td>29.011492</td>\n",
       "      <td>8.006683</td>\n",
       "      <td>11.417937</td>\n",
       "      <td>29.508013</td>\n",
       "      <td>2.714807</td>\n",
       "      <td>2.302998</td>\n",
       "      <td>8.516493</td>\n",
       "      <td>10.261235</td>\n",
       "      <td>1.346451</td>\n",
       "      <td>3.065141</td>\n",
       "      <td>0.999322</td>\n",
       "    </tr>\n",
       "    <tr>\n",
       "      <th>min</th>\n",
       "      <td>1.000000</td>\n",
       "      <td>3.700000</td>\n",
       "      <td>23.000000</td>\n",
       "      <td>127.500000</td>\n",
       "      <td>65.000000</td>\n",
       "      <td>32.800000</td>\n",
       "      <td>83.400000</td>\n",
       "      <td>70.400000</td>\n",
       "      <td>20.100000</td>\n",
       "      <td>25.600000</td>\n",
       "      <td>16.300000</td>\n",
       "    </tr>\n",
       "    <tr>\n",
       "      <th>25%</th>\n",
       "      <td>25.750000</td>\n",
       "      <td>12.375000</td>\n",
       "      <td>39.750000</td>\n",
       "      <td>152.937500</td>\n",
       "      <td>68.250000</td>\n",
       "      <td>36.275000</td>\n",
       "      <td>94.000000</td>\n",
       "      <td>83.825000</td>\n",
       "      <td>22.000000</td>\n",
       "      <td>29.900000</td>\n",
       "      <td>17.600000</td>\n",
       "    </tr>\n",
       "    <tr>\n",
       "      <th>50%</th>\n",
       "      <td>50.500000</td>\n",
       "      <td>18.950000</td>\n",
       "      <td>44.000000</td>\n",
       "      <td>176.125000</td>\n",
       "      <td>70.000000</td>\n",
       "      <td>37.900000</td>\n",
       "      <td>99.250000</td>\n",
       "      <td>90.150000</td>\n",
       "      <td>22.600000</td>\n",
       "      <td>32.000000</td>\n",
       "      <td>18.200000</td>\n",
       "    </tr>\n",
       "    <tr>\n",
       "      <th>75%</th>\n",
       "      <td>75.250000</td>\n",
       "      <td>24.575000</td>\n",
       "      <td>52.000000</td>\n",
       "      <td>195.437500</td>\n",
       "      <td>72.250000</td>\n",
       "      <td>39.400000</td>\n",
       "      <td>105.600000</td>\n",
       "      <td>98.975000</td>\n",
       "      <td>23.725000</td>\n",
       "      <td>34.400000</td>\n",
       "      <td>18.825000</td>\n",
       "    </tr>\n",
       "    <tr>\n",
       "      <th>max</th>\n",
       "      <td>100.000000</td>\n",
       "      <td>40.100000</td>\n",
       "      <td>74.000000</td>\n",
       "      <td>262.750000</td>\n",
       "      <td>77.750000</td>\n",
       "      <td>43.200000</td>\n",
       "      <td>128.300000</td>\n",
       "      <td>126.200000</td>\n",
       "      <td>27.000000</td>\n",
       "      <td>38.500000</td>\n",
       "      <td>21.400000</td>\n",
       "    </tr>\n",
       "  </tbody>\n",
       "</table>\n",
       "</div>"
      ],
      "text/plain": [
       "       Unnamed: 0     Bodyfat         Age      Weight      Height        Neck  \\\n",
       "count  100.000000  100.000000  100.000000  100.000000  100.000000  100.000000   \n",
       "mean    50.500000   18.601000   44.880000  177.451500   70.355000   37.894000   \n",
       "std     29.011492    8.006683   11.417937   29.508013    2.714807    2.302998   \n",
       "min      1.000000    3.700000   23.000000  127.500000   65.000000   32.800000   \n",
       "25%     25.750000   12.375000   39.750000  152.937500   68.250000   36.275000   \n",
       "50%     50.500000   18.950000   44.000000  176.125000   70.000000   37.900000   \n",
       "75%     75.250000   24.575000   52.000000  195.437500   72.250000   39.400000   \n",
       "max    100.000000   40.100000   74.000000  262.750000   77.750000   43.200000   \n",
       "\n",
       "            Chest     Abdomen       Ankle      Biceps       Wrist  \n",
       "count  100.000000  100.000000  100.000000  100.000000  100.000000  \n",
       "mean   100.681000   91.867000   22.900000   32.292000   18.221000  \n",
       "std      8.516493   10.261235    1.346451    3.065141    0.999322  \n",
       "min     83.400000   70.400000   20.100000   25.600000   16.300000  \n",
       "25%     94.000000   83.825000   22.000000   29.900000   17.600000  \n",
       "50%     99.250000   90.150000   22.600000   32.000000   18.200000  \n",
       "75%    105.600000   98.975000   23.725000   34.400000   18.825000  \n",
       "max    128.300000  126.200000   27.000000   38.500000   21.400000  "
      ]
     },
     "execution_count": 12,
     "metadata": {},
     "output_type": "execute_result"
    }
   ],
   "source": [
    "df.describe()"
   ]
  },
  {
   "cell_type": "code",
   "execution_count": 13,
   "metadata": {
    "collapsed": false,
    "deletable": true,
    "editable": true
   },
   "outputs": [],
   "source": [
    "def bootstrap_sampling(df, N = 30, K = 10, f = np.median):\n",
    "    samples = {}\n",
    "    for _ in range(K):\n",
    "        sample = df.sample(N).apply(f)\n",
    "        keys = df.apply(np.median).keys()\n",
    "        for i, statistic in enumerate(sample):\n",
    "            if keys[i] not in samples:\n",
    "                samples[keys[i]] = []\n",
    "            samples[keys[i]].append(statistic)\n",
    "    samples = {k:np.array(v) for k, v in samples.items()}\n",
    "    return samples"
   ]
  },
  {
   "cell_type": "markdown",
   "metadata": {},
   "source": [
    "H0: median = 13.5"
   ]
  },
  {
   "cell_type": "code",
   "execution_count": 14,
   "metadata": {
    "collapsed": false
   },
   "outputs": [],
   "source": [
    "median = 13.5\n",
    "alpha = 0.05\n",
    "K = 100"
   ]
  },
  {
   "cell_type": "code",
   "execution_count": 15,
   "metadata": {
    "collapsed": false
   },
   "outputs": [
    {
     "data": {
      "image/png": "[encoded data removed]",
      "text/plain": [
       "<matplotlib.figure.Figure at 0x10ab7ffd0>"
      ]
     },
     "metadata": {},
     "output_type": "display_data"
    }
   ],
   "source": [
    "bootstrap = bootstrap_sampling(df, K = K, f = np.median)['Weight']\n",
    "shift = median - bootstrap.mean()\n",
    "\n",
    "plt.hist(bootstrap)\n",
    "plt.show()"
   ]
  },
  {
   "cell_type": "code",
   "execution_count": 16,
   "metadata": {
    "collapsed": false
   },
   "outputs": [],
   "source": [
    "ordered = np.sort(bootstrap)\n",
    "\n",
    "c = [int(K*alpha/2),  int(K*(1 - alpha)/2)]\n",
    "bounds = map(lambda v: np.percentile(ordered, v), c)"
   ]
  },
  {
   "cell_type": "code",
   "execution_count": 17,
   "metadata": {
    "collapsed": false
   },
   "outputs": [],
   "source": [
    "calculate_p = lambda b: 1 - np.sum((bootstrap < b[0]) | (bootstrap > b[1]))/float(K)\n",
    "\n",
    "p_crit = calculate_p(bounds)\n",
    "p = calculate_p([median - shift, median + shift])"
   ]
  },
  {
   "cell_type": "code",
   "execution_count": 18,
   "metadata": {
    "collapsed": false
   },
   "outputs": [
    {
     "data": {
      "text/plain": [
       "[163.0975, 175.88999999999999]"
      ]
     },
     "execution_count": 18,
     "metadata": {},
     "output_type": "execute_result"
    }
   ],
   "source": [
    "bounds"
   ]
  },
  {
   "cell_type": "code",
   "execution_count": 19,
   "metadata": {
    "collapsed": false
   },
   "outputs": [
    {
     "data": {
      "text/plain": [
       "0.44999999999999996"
      ]
     },
     "execution_count": 19,
     "metadata": {},
     "output_type": "execute_result"
    }
   ],
   "source": [
    "p_crit"
   ]
  },
  {
   "cell_type": "code",
   "execution_count": 20,
   "metadata": {
    "collapsed": false
   },
   "outputs": [
    {
     "data": {
      "text/plain": [
       "0.0"
      ]
     },
     "execution_count": 20,
     "metadata": {},
     "output_type": "execute_result"
    }
   ],
   "source": [
    "p"
   ]
  },
  {
   "cell_type": "markdown",
   "metadata": {},
   "source": [
    "Reject H0 that median = 13.5"
   ]
  }
 ],
 "metadata": {
  "kernelspec": {
   "display_name": "Python 2",
   "language": "python",
   "name": "python2"
  },
  "language_info": {
   "codemirror_mode": {
    "name": "ipython",
    "version": 2
   },
   "file_extension": ".py",
   "mimetype": "text/x-python",
   "name": "python",
   "nbconvert_exporter": "python",
   "pygments_lexer": "ipython2",
   "version": "2.7.11"
  }
 },
 "nbformat": 4,
 "nbformat_minor": 2
}
