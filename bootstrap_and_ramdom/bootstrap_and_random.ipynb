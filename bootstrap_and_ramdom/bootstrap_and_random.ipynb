{
 "cells": [
  {
   "cell_type": "markdown",
   "metadata": {},
   "source": [
    "# Research Methods \n",
    "## Bootstraping and randomization\n",
    "\n",
    "**11. December 2017**\n",
    "\n",
    "Fabian Karl & Robert Brown"
   ]
  },
  {
   "cell_type": "code",
   "execution_count": 126,
   "metadata": {
    "collapsed": true
   },
   "outputs": [],
   "source": [
    "import numpy as np\n",
    "import pandas as pd\n",
    "from scipy import stats\n",
    "import scipy.optimize as opt\n",
    "from random import shuffle\n",
    "import statistics\n",
    "\n",
    "import matplotlib.pyplot as plt"
   ]
  },
  {
   "cell_type": "markdown",
   "metadata": {},
   "source": [
    "## randomization"
   ]
  },
  {
   "cell_type": "code",
   "execution_count": 82,
   "metadata": {},
   "outputs": [
    {
     "data": {
      "text/html": [
       "<div>\n",
       "<style>\n",
       "    .dataframe thead tr:only-child th {\n",
       "        text-align: right;\n",
       "    }\n",
       "\n",
       "    .dataframe thead th {\n",
       "        text-align: left;\n",
       "    }\n",
       "\n",
       "    .dataframe tbody tr th {\n",
       "        vertical-align: top;\n",
       "    }\n",
       "</style>\n",
       "<table border=\"1\" class=\"dataframe\">\n",
       "  <thead>\n",
       "    <tr style=\"text-align: right;\">\n",
       "      <th></th>\n",
       "      <th>Unnamed: 0</th>\n",
       "      <th>Taps</th>\n",
       "      <th>Group</th>\n",
       "    </tr>\n",
       "  </thead>\n",
       "  <tbody>\n",
       "    <tr>\n",
       "      <th>0</th>\n",
       "      <td>1</td>\n",
       "      <td>246</td>\n",
       "      <td>Caffeine</td>\n",
       "    </tr>\n",
       "    <tr>\n",
       "      <th>1</th>\n",
       "      <td>2</td>\n",
       "      <td>248</td>\n",
       "      <td>Caffeine</td>\n",
       "    </tr>\n",
       "    <tr>\n",
       "      <th>2</th>\n",
       "      <td>3</td>\n",
       "      <td>250</td>\n",
       "      <td>Caffeine</td>\n",
       "    </tr>\n",
       "    <tr>\n",
       "      <th>3</th>\n",
       "      <td>4</td>\n",
       "      <td>252</td>\n",
       "      <td>Caffeine</td>\n",
       "    </tr>\n",
       "    <tr>\n",
       "      <th>4</th>\n",
       "      <td>5</td>\n",
       "      <td>248</td>\n",
       "      <td>Caffeine</td>\n",
       "    </tr>\n",
       "    <tr>\n",
       "      <th>5</th>\n",
       "      <td>6</td>\n",
       "      <td>250</td>\n",
       "      <td>Caffeine</td>\n",
       "    </tr>\n",
       "    <tr>\n",
       "      <th>6</th>\n",
       "      <td>7</td>\n",
       "      <td>246</td>\n",
       "      <td>Caffeine</td>\n",
       "    </tr>\n",
       "    <tr>\n",
       "      <th>7</th>\n",
       "      <td>8</td>\n",
       "      <td>248</td>\n",
       "      <td>Caffeine</td>\n",
       "    </tr>\n",
       "    <tr>\n",
       "      <th>8</th>\n",
       "      <td>9</td>\n",
       "      <td>245</td>\n",
       "      <td>Caffeine</td>\n",
       "    </tr>\n",
       "    <tr>\n",
       "      <th>9</th>\n",
       "      <td>10</td>\n",
       "      <td>250</td>\n",
       "      <td>Caffeine</td>\n",
       "    </tr>\n",
       "    <tr>\n",
       "      <th>10</th>\n",
       "      <td>11</td>\n",
       "      <td>242</td>\n",
       "      <td>NoCaffeine</td>\n",
       "    </tr>\n",
       "    <tr>\n",
       "      <th>11</th>\n",
       "      <td>12</td>\n",
       "      <td>245</td>\n",
       "      <td>NoCaffeine</td>\n",
       "    </tr>\n",
       "    <tr>\n",
       "      <th>12</th>\n",
       "      <td>13</td>\n",
       "      <td>244</td>\n",
       "      <td>NoCaffeine</td>\n",
       "    </tr>\n",
       "    <tr>\n",
       "      <th>13</th>\n",
       "      <td>14</td>\n",
       "      <td>248</td>\n",
       "      <td>NoCaffeine</td>\n",
       "    </tr>\n",
       "    <tr>\n",
       "      <th>14</th>\n",
       "      <td>15</td>\n",
       "      <td>247</td>\n",
       "      <td>NoCaffeine</td>\n",
       "    </tr>\n",
       "    <tr>\n",
       "      <th>15</th>\n",
       "      <td>16</td>\n",
       "      <td>248</td>\n",
       "      <td>NoCaffeine</td>\n",
       "    </tr>\n",
       "    <tr>\n",
       "      <th>16</th>\n",
       "      <td>17</td>\n",
       "      <td>242</td>\n",
       "      <td>NoCaffeine</td>\n",
       "    </tr>\n",
       "    <tr>\n",
       "      <th>17</th>\n",
       "      <td>18</td>\n",
       "      <td>244</td>\n",
       "      <td>NoCaffeine</td>\n",
       "    </tr>\n",
       "    <tr>\n",
       "      <th>18</th>\n",
       "      <td>19</td>\n",
       "      <td>246</td>\n",
       "      <td>NoCaffeine</td>\n",
       "    </tr>\n",
       "    <tr>\n",
       "      <th>19</th>\n",
       "      <td>20</td>\n",
       "      <td>242</td>\n",
       "      <td>NoCaffeine</td>\n",
       "    </tr>\n",
       "  </tbody>\n",
       "</table>\n",
       "</div>"
      ],
      "text/plain": [
       "    Unnamed: 0  Taps       Group\n",
       "0            1   246    Caffeine\n",
       "1            2   248    Caffeine\n",
       "2            3   250    Caffeine\n",
       "3            4   252    Caffeine\n",
       "4            5   248    Caffeine\n",
       "5            6   250    Caffeine\n",
       "6            7   246    Caffeine\n",
       "7            8   248    Caffeine\n",
       "8            9   245    Caffeine\n",
       "9           10   250    Caffeine\n",
       "10          11   242  NoCaffeine\n",
       "11          12   245  NoCaffeine\n",
       "12          13   244  NoCaffeine\n",
       "13          14   248  NoCaffeine\n",
       "14          15   247  NoCaffeine\n",
       "15          16   248  NoCaffeine\n",
       "16          17   242  NoCaffeine\n",
       "17          18   244  NoCaffeine\n",
       "18          19   246  NoCaffeine\n",
       "19          20   242  NoCaffeine"
      ]
     },
     "execution_count": 82,
     "metadata": {},
     "output_type": "execute_result"
    }
   ],
   "source": [
    "df = pd.read_csv('CaffeineTaps.csv', thousands=',')\n",
    "df"
   ]
  },
  {
   "cell_type": "code",
   "execution_count": 83,
   "metadata": {},
   "outputs": [],
   "source": [
    "# df.loc[df['column_name'] == some_value]\n",
    "caffeine_group = df[df.Group == 'Caffeine']\n",
    "no_caffeine_group = df[df.Group != 'Caffeine']"
   ]
  },
  {
   "cell_type": "code",
   "execution_count": 84,
   "metadata": {},
   "outputs": [],
   "source": [
    "no_caffeine_group_median = no_caffeine_group.Taps.median()\n",
    "caffeine_group_median = caffeine_group.Taps.median()"
   ]
  },
  {
   "cell_type": "code",
   "execution_count": 85,
   "metadata": {},
   "outputs": [
    {
     "name": "stdout",
     "output_type": "stream",
     "text": [
      "Difference in Median: 3.5\n"
     ]
    }
   ],
   "source": [
    "diff_in_median = caffeine_group_median - no_caffeine_group_median\n",
    "print('Difference in Median:',diff_in_median)"
   ]
  },
  {
   "cell_type": "code",
   "execution_count": 211,
   "metadata": {},
   "outputs": [],
   "source": [
    "def shuffel_split_get_median(sample_list, samples = 1000):\n",
    "    for _ in range(samples):\n",
    "        shuffle(sample_list)\n",
    "        halfe_size = int(len(sample_list)/2)\n",
    "        first_half = sample_list[:halfe_size]\n",
    "        second_half = sample_list[halfe_size:]\n",
    "        median_first_half = statistics.median(first_half)\n",
    "        median_second_half = statistics.median(second_half)\n",
    "        yield median_second_half-median_first_half"
   ]
  },
  {
   "cell_type": "markdown",
   "metadata": {},
   "source": [
    "## 10 Samples"
   ]
  },
  {
   "cell_type": "code",
   "execution_count": 217,
   "metadata": {},
   "outputs": [],
   "source": [
    "taps = list(df.Taps)\n",
    "median_generator_10 = shuffel_split_get_median(taps, 10)\n",
    "median_list_10 = list(median_generator_10)"
   ]
  },
  {
   "cell_type": "code",
   "execution_count": 218,
   "metadata": {},
   "outputs": [
    {
     "name": "stdout",
     "output_type": "stream",
     "text": [
      "Elements bigger than the difference in Median from the experiment: 0\n"
     ]
    }
   ],
   "source": [
    "bigger_than_original_10 = sum(i > diff_in_median for i in median_list_10)\n",
    "print('Elements bigger than the difference in Median from the experiment:', bigger_than_original_10)"
   ]
  },
  {
   "cell_type": "code",
   "execution_count": 219,
   "metadata": {},
   "outputs": [
    {
     "data": {
      "image/png": "[encoded data removed]",
      "text/plain": [
       "<matplotlib.figure.Figure at 0x1c2c8f56908>"
      ]
     },
     "metadata": {},
     "output_type": "display_data"
    },
    {
     "data": {
      "text/plain": [
       "Ttest_1sampResult(statistic=-5.6501938180141105, pvalue=0.00031352372004707319)"
      ]
     },
     "execution_count": 219,
     "metadata": {},
     "output_type": "execute_result"
    }
   ],
   "source": [
    "plt.hist(median_list_10,100)\n",
    "plt.show()\n",
    "stats.ttest_1samp(median_list_10, diff_in_median, axis=0)"
   ]
  },
  {
   "cell_type": "markdown",
   "metadata": {},
   "source": [
    "## 10,000 Samples"
   ]
  },
  {
   "cell_type": "code",
   "execution_count": 216,
   "metadata": {},
   "outputs": [
    {
     "data": {
      "image/png": "[encoded data removed]",
      "text/plain": [
       "<matplotlib.figure.Figure at 0x1c2c8eb3240>"
      ]
     },
     "metadata": {},
     "output_type": "display_data"
    },
    {
     "data": {
      "text/plain": [
       "Ttest_1sampResult(statistic=-198.73998948027148, pvalue=0.0)"
      ]
     },
     "execution_count": 216,
     "metadata": {},
     "output_type": "execute_result"
    }
   ],
   "source": [
    "taps = list(df.Taps)\n",
    "median_generator_10000 = shuffel_split_get_median(taps, 10000)\n",
    "median_list_10000 = list(median_generator_10000)\n",
    "plt.hist(median_list_10000,100)\n",
    "plt.show()\n",
    "stats.ttest_1samp(median_list_10000, diff_in_median, axis=0)"
   ]
  },
  {
   "cell_type": "markdown",
   "metadata": {},
   "source": [
    "H0 has to be rejected -> There is a significant difference between the two groups 'Caffeine' and 'noCaffeine' regarding 'Taps'"
   ]
  },
  {
   "cell_type": "markdown",
   "metadata": {},
   "source": [
    "# Bootstraping"
   ]
  },
  {
   "cell_type": "code",
   "execution_count": 220,
   "metadata": {
    "collapsed": true
   },
   "outputs": [],
   "source": [
    "#you gonna do this?"
   ]
  },
  {
   "cell_type": "code",
   "execution_count": null,
   "metadata": {
    "collapsed": true
   },
   "outputs": [],
   "source": []
  }
 ],
 "metadata": {
  "kernelspec": {
   "display_name": "Python 3",
   "language": "python",
   "name": "python3"
  },
  "language_info": {
   "codemirror_mode": {
    "name": "ipython",
    "version": 3
   },
   "file_extension": ".py",
   "mimetype": "text/x-python",
   "name": "python",
   "nbconvert_exporter": "python",
   "pygments_lexer": "ipython3",
   "version": "3.6.1"
  }
 },
 "nbformat": 4,
 "nbformat_minor": 2
}
